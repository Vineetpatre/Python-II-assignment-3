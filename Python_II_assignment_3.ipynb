{
  "nbformat": 4,
  "nbformat_minor": 0,
  "metadata": {
    "colab": {
      "provenance": [],
      "collapsed_sections": [],
      "authorship_tag": "ABX9TyOpb/4a9JPNlu2dfLeIby3G",
      "include_colab_link": true
    },
    "kernelspec": {
      "name": "python3",
      "display_name": "Python 3"
    },
    "language_info": {
      "name": "python"
    }
  },
  "cells": [
    {
      "cell_type": "markdown",
      "metadata": {
        "id": "view-in-github",
        "colab_type": "text"
      },
      "source": [
        "<a href=\"https://colab.research.google.com/github/Vineetpatre/Python-II-assignment-3/blob/main/Python_II_assignment_3.ipynb\" target=\"_parent\"><img src=\"https://colab.research.google.com/assets/colab-badge.svg\" alt=\"Open In Colab\"/></a>"
      ]
    },
    {
      "cell_type": "markdown",
      "source": [
        "**SECTION A**"
      ],
      "metadata": {
        "id": "dYwD-2DMuEVL"
      }
    },
    {
      "cell_type": "code",
      "execution_count": 1,
      "metadata": {
        "colab": {
          "base_uri": "https://localhost:8080/"
        },
        "id": "voikFniKt8Dr",
        "outputId": "98f24f3d-4efb-40c3-b95c-f5236f39c12a"
      },
      "outputs": [
        {
          "output_type": "stream",
          "name": "stdout",
          "text": [
            "True\n"
          ]
        }
      ],
      "source": [
        "#Create a function that returns True if a given inequality expression is correct and False otherwise.\n",
        "def check(s):\n",
        "    abc=eval(s)\n",
        "    if abc:\n",
        "        return True\n",
        "    else:\n",
        "      return False\n",
        "print(check(\"2 < 7 < 15\"))"
      ]
    },
    {
      "cell_type": "code",
      "source": [
        "#Create a function that takes three arguments a, b, c and returns the sum of the numbers that are evenly divided by c from the range a, b inclusive.\n",
        "def sumDivisibles(A, B, C):\n",
        "    sum = 0\n",
        "    for i in range(A, B + 1):\n",
        "        if (i % C == 0):\n",
        "            sum += i\n",
        "    return sum   \n",
        "A = int(input(\"Enter value of A =\"))\n",
        "B = int(input(\"Enter value of B =\"))\n",
        "C = int(input(\"Enter value of C =\"))\n",
        " \n",
        "print(sumDivisibles(A, B, C))"
      ],
      "metadata": {
        "colab": {
          "base_uri": "https://localhost:8080/"
        },
        "id": "nft7cBMZuXlo",
        "outputId": "88e6f97b-abdb-4f00-b83e-4340c0b87161"
      },
      "execution_count": 4,
      "outputs": [
        {
          "output_type": "stream",
          "name": "stdout",
          "text": [
            "Enter value of A =6\n",
            "Enter value of B =3\n",
            "Enter value of C =1\n",
            "0\n"
          ]
        }
      ]
    },
    {
      "cell_type": "code",
      "source": [
        "#Create a function that replaces all the vowels in a string with a specified character.\n",
        "def replaceVowels(str, K):\n",
        "    vowels = 'AEIOUaeiou'\n",
        "    for i in vowels:\n",
        "      str = str.replace(i, K)\n",
        "    return str\n",
        "\n",
        "input = \"My name is vineet\"\n",
        "K = \"*\"\n",
        "print(\"Given String:\", input)\n",
        "print(\"Given Specified Character:\", K)\n",
        "print(\"After replacing vowels with the specified character:\", replaceVowels(input, K))"
      ],
      "metadata": {
        "colab": {
          "base_uri": "https://localhost:8080/"
        },
        "id": "9Di0wsRFuvPa",
        "outputId": "5d6ce518-a968-444b-ff83-26c86115ba2c"
      },
      "execution_count": 6,
      "outputs": [
        {
          "output_type": "stream",
          "name": "stdout",
          "text": [
            "Given String: My name is vineet\n",
            "Given Specified Character: *\n",
            "After replacing vowels with the specified character: My n*m* *s v*n**t\n"
          ]
        }
      ]
    },
    {
      "cell_type": "code",
      "source": [
        "#Write a function that calculates the factorial of a number recursively.\n",
        "def factorial(n): \n",
        "    if (n==1 or n==0): \n",
        "        return 1\n",
        "    else:     \n",
        "        return (n * factorial(n - 1)) \n",
        "  \n",
        "num = 7\n",
        "print(\"number : \",num)\n",
        "print(\"Factorial : \",factorial(num))"
      ],
      "metadata": {
        "colab": {
          "base_uri": "https://localhost:8080/"
        },
        "id": "FwPNxaHuu5rz",
        "outputId": "9b30bf60-abda-4e79-aae8-560cbc40f891"
      },
      "execution_count": 8,
      "outputs": [
        {
          "output_type": "stream",
          "name": "stdout",
          "text": [
            "number :  7\n",
            "Factorial :  5040\n"
          ]
        }
      ]
    },
    {
      "cell_type": "code",
      "source": [
        "#Create a function that computes the hamming distance between two strings.\n",
        "def hammingDist(str1, str2):\n",
        "    i = 0\n",
        "    count = 0\n",
        "    while(i < len(str1)):\n",
        "        if(str1[i] != str2[i]):\n",
        "            count += 1\n",
        "        i += 1\n",
        "    return count\n",
        "str1 = \"strong\"\n",
        "str2 = \"strung\"\n",
        "\n",
        "print(hammingDist(str1, str2))"
      ],
      "metadata": {
        "colab": {
          "base_uri": "https://localhost:8080/"
        },
        "id": "PLIQPVCovGtx",
        "outputId": "fe7ea82e-1fdf-435a-a631-a09afb0e7a76"
      },
      "execution_count": 9,
      "outputs": [
        {
          "output_type": "stream",
          "name": "stdout",
          "text": [
            "1\n"
          ]
        }
      ]
    },
    {
      "cell_type": "markdown",
      "source": [
        "**SECTION B**"
      ],
      "metadata": {
        "id": "151R41covRRX"
      }
    },
    {
      "cell_type": "code",
      "source": [
        "#Create a function that takes a list of non-negative integers and strings and return a new list without the strings.\n",
        "def filter_list(l):  \n",
        "    output = []\n",
        "    for i in l:  \n",
        "        if type(i) != str:  \n",
        "            output.append(i)  \n",
        "    return output\n",
        "\n",
        "print(filter_list([14,206,'r','g',44,6,'k']))"
      ],
      "metadata": {
        "colab": {
          "base_uri": "https://localhost:8080/"
        },
        "id": "LsW0CyIovQs6",
        "outputId": "58c07a98-d8db-4ba0-fdf9-669f0ebfaaed"
      },
      "execution_count": 10,
      "outputs": [
        {
          "output_type": "stream",
          "name": "stdout",
          "text": [
            "[14, 206, 44, 6]\n"
          ]
        }
      ]
    },
    {
      "cell_type": "code",
      "source": [
        "#The \"Reverser\" takes a string as input and returns that string in reverse order, with the opposite case.\n",
        "def reverse(str):\n",
        "    str = str[::-1]\n",
        "    return str.swapcase()\n",
        "\n",
        "reverse('Hello World')"
      ],
      "metadata": {
        "colab": {
          "base_uri": "https://localhost:8080/",
          "height": 35
        },
        "id": "g5BLz92hvYlq",
        "outputId": "d1af5708-14b2-4581-e543-c676b6d9076d"
      },
      "execution_count": 11,
      "outputs": [
        {
          "output_type": "execute_result",
          "data": {
            "text/plain": [
              "'DLROw OLLEh'"
            ],
            "application/vnd.google.colaboratory.intrinsic+json": {
              "type": "string"
            }
          },
          "metadata": {},
          "execution_count": 11
        }
      ]
    },
    {
      "cell_type": "code",
      "source": [
        "#with middle being everything in between the first and last element.\n",
        "lst = [1, 2, 3, 4, 5, 6]\n",
        "lst = first, middle, last\n",
        "\n",
        "print(first)\n",
        "print(middle)\n",
        "print(last)"
      ],
      "metadata": {
        "id": "cmsjbSiVvcuq"
      },
      "execution_count": 13,
      "outputs": []
    },
    {
      "cell_type": "code",
      "source": [
        "#Write a function that moves all elements of one type to the end of the list.\n",
        "def move_end(array, toMove):\n",
        "    i = 0\n",
        "    s = len(array) - 1\n",
        "    while (i < s):\n",
        "        while (i < s and array[s] == toMove):\n",
        "            s-=1\n",
        "        if (array[i] == toMove):\n",
        "            array[i], array[s] = array[s] , array[i]\n",
        "        i += 1\n",
        "    return array\n",
        "\n",
        "arr = ['a', 'a', 'a', 'b']\n",
        "k = 'a'\n",
        "ans = move_end(arr, k)\n",
        "for i in range(len(arr)):\n",
        "    print(ans[i] ,end= \" \")"
      ],
      "metadata": {
        "colab": {
          "base_uri": "https://localhost:8080/"
        },
        "id": "_YlUL1bcv1LI",
        "outputId": "03cb28b7-4286-47d5-e3ce-0356b163f937"
      },
      "execution_count": 14,
      "outputs": [
        {
          "output_type": "stream",
          "name": "stdout",
          "text": [
            "b a a a "
          ]
        }
      ]
    },
    {
      "cell_type": "markdown",
      "source": [
        "**SECTION C**"
      ],
      "metadata": {
        "id": "08Q7sXePwKt2"
      }
    },
    {
      "cell_type": "code",
      "source": [
        "#Create a function that takes a string and returns a string in which each character is repeated once.\n",
        "def double(str):\n",
        "    return ''.join([c+c for c in str])\n",
        "\n",
        "print(double('String'))"
      ],
      "metadata": {
        "colab": {
          "base_uri": "https://localhost:8080/"
        },
        "id": "YpX_Ee6Zv9Pq",
        "outputId": "485a9739-2ea7-4d6a-dd4f-c8972314292c"
      },
      "execution_count": 15,
      "outputs": [
        {
          "output_type": "stream",
          "name": "stdout",
          "text": [
            "SSttrriinngg\n"
          ]
        }
      ]
    },
    {
      "cell_type": "code",
      "source": [
        "#Create a function that reverses a boolean value and returns the string \"boolean expected\" if another variable type is given.\n",
        "def reverse(arg=None):\n",
        "    return not arg if type(arg) == bool else \"boolean expected\"\n",
        "\n",
        "print(reverse(True))\n",
        "print(reverse(False))\n",
        "print(reverse(0))\n",
        "print(reverse(None))"
      ],
      "metadata": {
        "colab": {
          "base_uri": "https://localhost:8080/"
        },
        "id": "EvH3Vfx_wBj5",
        "outputId": "608008d8-7ad7-4801-95ca-d3b9d687283d"
      },
      "execution_count": 16,
      "outputs": [
        {
          "output_type": "stream",
          "name": "stdout",
          "text": [
            "False\n",
            "True\n",
            "boolean expected\n",
            "boolean expected\n"
          ]
        }
      ]
    },
    {
      "cell_type": "code",
      "source": [
        "#Create a function that returns the thickness (in meters) of a piece of paper after folding it n number of times. The paper starts off with a thickness of 0.5mm.\n",
        "def layers(n):\n",
        "    thickness = 0.5\n",
        "    for _ in range(n):\n",
        "        thickness *= 2\n",
        "    return str(thickness / 1000)+'m' # for meters\n",
        "\n",
        "print(layers(1))\n",
        "print(layers(4))"
      ],
      "metadata": {
        "colab": {
          "base_uri": "https://localhost:8080/"
        },
        "id": "IC-ExWQtwVqX",
        "outputId": "5b53e62b-66bb-4a89-bc9e-97fada01c6fb"
      },
      "execution_count": 17,
      "outputs": [
        {
          "output_type": "stream",
          "name": "stdout",
          "text": [
            "0.001m\n",
            "0.008m\n"
          ]
        }
      ]
    },
    {
      "cell_type": "code",
      "source": [
        "#Create a function that takes a single string as argument and returns an ordered list containing the indices of all capital letters in the string\n",
        "def index_of_cap(word):\n",
        "    indices = []\n",
        "    for i in range(len(word)):\n",
        "        if word[i].isupper():\n",
        "             indices.append(i)\n",
        "    return indices\n",
        "\n",
        "print(index_of_cap('Pratik'))\n",
        "print(index_of_cap('eDaBiT'))\n",
        "print(index_of_cap('eQuINoX'))"
      ],
      "metadata": {
        "colab": {
          "base_uri": "https://localhost:8080/"
        },
        "id": "UFIPcwAIwZ2_",
        "outputId": "15684d15-2776-4235-ca9a-005e91e77c0c"
      },
      "execution_count": 18,
      "outputs": [
        {
          "output_type": "stream",
          "name": "stdout",
          "text": [
            "[0]\n",
            "[1, 3, 5]\n",
            "[1, 3, 4, 6]\n"
          ]
        }
      ]
    },
    {
      "cell_type": "code",
      "source": [
        "#Using list comprehensions, create a function that finds all even numbers from 1 to the given number.\n",
        "def find_even_no(n):\n",
        "    even =[x for x in range(2,n+1) if x % 2 == 0]\n",
        "    return even\n",
        "\n",
        "n = int(input(\"Enter a number : \"))\n",
        "find_even_no(n)"
      ],
      "metadata": {
        "id": "wJmzj_Bnwg6_"
      },
      "execution_count": 20,
      "outputs": []
    },
    {
      "cell_type": "markdown",
      "source": [
        "**SECTION D**"
      ],
      "metadata": {
        "id": "naJ5Dy14w4-1"
      }
    },
    {
      "cell_type": "code",
      "source": [
        "#Create a function that takes a list of strings and integers, and filters out the list so that it returns a list of integers only\n",
        "def filter_list(lst):\n",
        "    intlst = []\n",
        "    for i in lst:\n",
        "        if type(i) == int:\n",
        "            intlst.append(i)\n",
        "    return intlst \n",
        "\n",
        "filter_list([1, 2, 3, 'a', 'b', 4])"
      ],
      "metadata": {
        "colab": {
          "base_uri": "https://localhost:8080/"
        },
        "id": "N8vDo3RWw3sP",
        "outputId": "e7c634b0-c4ca-4de5-d138-f2f98ca6cdaf"
      },
      "execution_count": 21,
      "outputs": [
        {
          "output_type": "execute_result",
          "data": {
            "text/plain": [
              "[1, 2, 3, 4]"
            ]
          },
          "metadata": {},
          "execution_count": 21
        }
      ]
    },
    {
      "cell_type": "code",
      "source": [
        "#Given a list of numbers, create a function which returns the list but with each element's index in the list added to itself.\n",
        "def add_index(lst):\n",
        "    ind = 0\n",
        "    index = []\n",
        "    for i in lst:\n",
        "        index.append(lst.index(i,ind) + i)\n",
        "        ind+=1\n",
        "    return index\n",
        "\n",
        "add_index([1, 2, 3, 4, 5])"
      ],
      "metadata": {
        "colab": {
          "base_uri": "https://localhost:8080/"
        },
        "id": "lh6Uega_xFxJ",
        "outputId": "b113ed08-90a4-447b-82e1-0b679a3b30ba"
      },
      "execution_count": 22,
      "outputs": [
        {
          "output_type": "execute_result",
          "data": {
            "text/plain": [
              "[1, 3, 5, 7, 9]"
            ]
          },
          "metadata": {},
          "execution_count": 22
        }
      ]
    },
    {
      "cell_type": "code",
      "source": [
        "#Create a function that takes the height and radius of a cone as arguments and returns the volume of the cone rounded to the nearest hundredth\n",
        "\n",
        "import math\n",
        "pi = math.pi\n",
        "def volume(r, h):\n",
        "\treturn (1 / 3) * pi * r * r * h\n",
        "def surfacearea(r, s):\n",
        "\treturn pi * r * s + pi * r * r\n",
        "radius = float(5)\n",
        "height = float(12)\n",
        "slat_height = float(13)\n",
        "print( \"Volume Of Cone : \", volume(radius, height) )\n",
        "print( \"Surface Area Of Cone : \", surfacearea(radius, slat_height) )\n"
      ],
      "metadata": {
        "colab": {
          "base_uri": "https://localhost:8080/"
        },
        "id": "AYeaORqyxLCl",
        "outputId": "54342bb7-b10a-4850-9881-d8c2730193fa"
      },
      "execution_count": 35,
      "outputs": [
        {
          "output_type": "stream",
          "name": "stdout",
          "text": [
            "Volume Of Cone :  314.15926535897927\n",
            "Surface Area Of Cone :  282.7433388230814\n"
          ]
        }
      ]
    },
    {
      "cell_type": "code",
      "source": [
        "#Write a function that gives the number of dots with its corresponding triangle number of the sequence.\n",
        "\n",
        "def triangular_series( n ):\n",
        "\tj = 1\n",
        "\tk = 1\n",
        "\tfor i in range(1, n + 1):\n",
        "\t\tprint(k, end = ' ')\n",
        "\t\tj = j + 1\n",
        "\t\tk = k + j\n",
        "n = 4\n",
        "triangular_series(n)\n"
      ],
      "metadata": {
        "colab": {
          "base_uri": "https://localhost:8080/"
        },
        "id": "8Bj1x7lwyqqx",
        "outputId": "16c08d88-df05-43ee-f60b-30df141e9e62"
      },
      "execution_count": 38,
      "outputs": [
        {
          "output_type": "stream",
          "name": "stdout",
          "text": [
            "1 3 6 10 "
          ]
        }
      ]
    },
    {
      "cell_type": "code",
      "source": [
        "#Create a function that takes a list of numbers between 1 and 10 (excluding one number) and returns the missing number.\n",
        "def missing_num(lst):\n",
        "    total = sum([x for x in range(11)])\n",
        "    sum_of_list = sum(lst)\n",
        "    return total - sum_of_list\n",
        "\n",
        "print(missing_num([1, 2, 3, 4, 6, 7, 8, 9, 10]))"
      ],
      "metadata": {
        "colab": {
          "base_uri": "https://localhost:8080/"
        },
        "id": "DmmD7cc_ysuj",
        "outputId": "22d10471-6484-4460-e6c7-7a9e107052bc"
      },
      "execution_count": 34,
      "outputs": [
        {
          "output_type": "stream",
          "name": "stdout",
          "text": [
            "5\n"
          ]
        }
      ]
    }
  ]
}